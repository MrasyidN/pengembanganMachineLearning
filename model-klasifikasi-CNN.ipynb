{
 "cells": [
  {
   "cell_type": "code",
   "execution_count": 1,
   "metadata": {},
   "outputs": [
    {
     "ename": "NameError",
     "evalue": "name 'img_height' is not defined",
     "output_type": "error",
     "traceback": [
      "\u001b[1;31m---------------------------------------------------------------------------\u001b[0m",
      "\u001b[1;31mNameError\u001b[0m                                 Traceback (most recent call last)",
      "Cell \u001b[1;32mIn[1], line 8\u001b[0m\n\u001b[0;32m      5\u001b[0m model \u001b[38;5;241m=\u001b[39m Sequential()\n\u001b[0;32m      7\u001b[0m \u001b[38;5;66;03m# Tambahkan layer konvolusi pertama\u001b[39;00m\n\u001b[1;32m----> 8\u001b[0m model\u001b[38;5;241m.\u001b[39madd(Conv2D(\u001b[38;5;241m32\u001b[39m, (\u001b[38;5;241m3\u001b[39m, \u001b[38;5;241m3\u001b[39m), activation\u001b[38;5;241m=\u001b[39m\u001b[38;5;124m'\u001b[39m\u001b[38;5;124mrelu\u001b[39m\u001b[38;5;124m'\u001b[39m, input_shape\u001b[38;5;241m=\u001b[39m(\u001b[43mimg_height\u001b[49m, img_width, img_channels)))\n\u001b[0;32m     10\u001b[0m \u001b[38;5;66;03m# Tambahkan layer max pooling pertama\u001b[39;00m\n\u001b[0;32m     11\u001b[0m model\u001b[38;5;241m.\u001b[39madd(MaxPooling2D((\u001b[38;5;241m2\u001b[39m, \u001b[38;5;241m2\u001b[39m)))\n",
      "\u001b[1;31mNameError\u001b[0m: name 'img_height' is not defined"
     ]
    }
   ],
   "source": [
    "from keras.models import Sequential\n",
    "from keras.layers import Conv2D, MaxPooling2D, Flatten, Dense, Dropout\n",
    " \n",
    "# Inisialisasi model Sequential\n",
    "model = Sequential()\n",
    " \n",
    "# Tambahkan layer konvolusi pertama\n",
    "model.add(Conv2D(32, (3, 3), activation='relu', input_shape=(img_height, img_width, img_channels)))\n",
    " \n",
    "# Tambahkan layer max pooling pertama\n",
    "model.add(MaxPooling2D((2, 2)))\n",
    " \n",
    "# Tambahkan layer konvolusi kedua\n",
    "model.add(Conv2D(64, (3, 3), activation='relu'))\n",
    " \n",
    "# Tambahkan layer max pooling kedua\n",
    "model.add(MaxPooling2D((2, 2)))\n",
    " \n",
    "# Tambahkan layer konvolusi ketiga\n",
    "model.add(Conv2D(64, (3, 3), activation='relu'))\n",
    " \n",
    "# Flatten layer untuk meratakan output\n",
    "model.add(Flatten())\n",
    " \n",
    "# Tambahkan layer dense dengan 64 neuron\n",
    "model.add(Dense(64, activation='relu'))\n",
    " \n",
    "# Tambahkan output layer dengan fungsi aktivasi softmax\n",
    "model.add(Dense(num_classes, activation='softmax'))"
   ]
  },
  {
   "cell_type": "code",
   "execution_count": null,
   "metadata": {},
   "outputs": [],
   "source": []
  }
 ],
 "metadata": {
  "kernelspec": {
   "display_name": "Python 3",
   "language": "python",
   "name": "python3"
  },
  "language_info": {
   "codemirror_mode": {
    "name": "ipython",
    "version": 3
   },
   "file_extension": ".py",
   "mimetype": "text/x-python",
   "name": "python",
   "nbconvert_exporter": "python",
   "pygments_lexer": "ipython3",
   "version": "3.12.4"
  }
 },
 "nbformat": 4,
 "nbformat_minor": 2
}
